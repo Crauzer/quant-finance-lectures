{
 "cells": [
  {
   "cell_type": "markdown",
   "metadata": {},
   "source": [
    "<img alt=\"QuantRocket logo\" src=\"https://www.quantrocket.com/assets/img/notebook-header-logo.png\">\n",
    "\n",
    "© Copyright Quantopian Inc.<br>\n",
    "© Modifications Copyright QuantRocket LLC<br>\n",
    "Licensed under the [Creative Commons Attribution 4.0](https://creativecommons.org/licenses/by/4.0/legalcode).\n",
    "\n",
    "<a href=\"https://www.quantrocket.com/disclaimer/\">Disclaimer</a>"
   ]
  },
  {
   "cell_type": "markdown",
   "metadata": {},
   "source": [
    "# Estimation of Covariance Matrices\n",
    "\n",
    "By Christopher van Hoecke and Max Margenot"
   ]
  },
  {
   "cell_type": "markdown",
   "metadata": {},
   "source": [
    "Volatility has long been a thorn in the side of investors in the market. Successfully measuring volatility would allow for more accurate modeling of the returns and more stable investments leading to greater returns, but forecasting volatility accurately is a difficult problem. \n",
    "\n",
    "## Measuring Volatility\n",
    "\n",
    "Volatility needs to be forward-looking and predictive in order to make smart decisions. Unfortunately, simply taking the historical standard deviation of an individual asset's returns falls short when we take into account need for robustness to the future. When we scale the problem up to the point where we need to forecast the volatility for many assets, it gets even harder.\n",
    "\n",
    "To model how a portfolio overall changes, it is important to look not only at the volatility of each asset in the portfolio, but also at the pairwise covariances of every asset involved. The relationship between two or more assets provides valuable insights and a path towards reduction of overall portfolio volatility. A large number of assets with low covariance would assure they decrease or increase independently of each other. Indepedent assets have less of an impact on our portfolio's volatility as they give us true diversity and help us avoid position concentration risk."
   ]
  },
  {
   "cell_type": "markdown",
   "metadata": {},
   "source": [
    "## Covariance\n",
    "\n",
    "In statistics and probability, the covariance is a measure of the joint variability of two random variables. When random variables exhibit similar behavior, there tends to be a high covariance between them. Mathematically, we express the covariance of X with respect to Y as:\n",
    "\n",
    "$$ COV(X, Y) = E[(X - E[X])(Y - E[Y])]$$\n",
    "\n",
    "Notice that if we take the covariance of $X$ with itself, we get:\n",
    "\n",
    "$$ COV(X, X) = E[(X - E[X])(X - E[X])] = E[(X - E[X])^2] = VAR(X) $$\n",
    "\n",
    "We can use covariance to quantify the similarities between different assets in much the same way. If two assets have a high covariance, they will generally behave the same way. Assets with particularly high covariance can essentially replace each other.\n",
    "\n",
    "Covariance matrices form the backbone of Modern Portfolio theory (MPT). MPT focuses on maximizing return for a given level of risk, making essential the methods with which we estimate that risk. We use covariances to quantify the joint risk of assets, forming how we view the risk of an entire portfolio. What is key is that investing in assets that have high pairwise covariances provides little diversification because of how closely their fluctuations are related."
   ]
  },
  {
   "cell_type": "code",
   "execution_count": 1,
   "metadata": {
    "collapsed": false,
    "jupyter": {
     "outputs_hidden": false
    }
   },
   "outputs": [],
   "source": [
    "import numpy as np \n",
    "import pandas as pd\n",
    "import matplotlib.pyplot as plt\n",
    "import seaborn as sns\n",
    "import scipy.stats as stats\n",
    "from sklearn import covariance"
   ]
  },
  {
   "cell_type": "markdown",
   "metadata": {},
   "source": [
    "Let's take the covariance of two closely related variables, $X$ and $Y$. Say that $X$ is some randomly drawn set and that $Y =  5X + \\epsilon$, where $\\epsilon$ is some extra noise. We can compute the covariance using the formula above to get a clearer picture of how $X$ evolves with respect to asset $Y$."
   ]
  },
  {
   "cell_type": "code",
   "execution_count": 2,
   "metadata": {
    "collapsed": false,
    "jupyter": {
     "outputs_hidden": false
    }
   },
   "outputs": [
    {
     "name": "stdout",
     "output_type": "stream",
     "text": [
      "Value of the covariance between X and Y: 5.253017412918232\n"
     ]
    }
   ],
   "source": [
    "# Generate random values of x\n",
    "X = np.random.normal(size = 1000)\n",
    "epsilon = np.random.normal(0, 3, size = len(X))\n",
    "Y = 5*X + epsilon\n",
    "\n",
    "product = (X - np.mean(X))*(Y - np.mean(Y))\n",
    "expected_value = np.mean(product)\n",
    "\n",
    "print('Value of the covariance between X and Y:', expected_value)"
   ]
  },
  {
   "cell_type": "markdown",
   "metadata": {},
   "source": [
    "We can also compute the covariance between $X$ and $Y$ with a single function."
   ]
  },
  {
   "cell_type": "code",
   "execution_count": 3,
   "metadata": {
    "collapsed": false,
    "jupyter": {
     "outputs_hidden": false
    }
   },
   "outputs": [
    {
     "data": {
      "text/plain": [
       "array([[ 1.05226462,  5.25827569],\n",
       "       [ 5.25827569, 35.13563747]])"
      ]
     },
     "execution_count": 3,
     "metadata": {},
     "output_type": "execute_result"
    }
   ],
   "source": [
    "np.cov([X, Y])"
   ]
  },
  {
   "cell_type": "markdown",
   "metadata": {},
   "source": [
    "This gives us the covariance matrix between $X$ and $Y$. The diagonals are their respective variances and the indices $(i, j)$ refer to the covariance between assets indexed $i$ and $j$."
   ]
  },
  {
   "cell_type": "code",
   "execution_count": 4,
   "metadata": {
    "collapsed": false,
    "jupyter": {
     "outputs_hidden": false
    }
   },
   "outputs": [
    {
     "name": "stdout",
     "output_type": "stream",
     "text": [
      "1.0512123507227458 35.10050183179254\n"
     ]
    }
   ],
   "source": [
    "print(np.var(X), np.var(Y))"
   ]
  },
  {
   "cell_type": "markdown",
   "metadata": {},
   "source": [
    "In this case, we only have two assets so we only have indices $(0, 1)$ and $(1, 0)$. Covariance matrices are symmetric, since $COV(X, Y) = COV(Y, X)$, which is why the off-diagonals mirror each other."
   ]
  },
  {
   "cell_type": "markdown",
   "metadata": {},
   "source": [
    "We can intuitively think of this as how much $Y$ changes when $X$ changes and vice-versa. As such, our covariance value of about 5 could have been anticipated from the definition of the relationship between $X$ and $Y$.\n",
    "\n",
    "Here is a scatterplot between $X$ and $Y$ with a line of best fit down the middle."
   ]
  },
  {
   "cell_type": "code",
   "execution_count": 5,
   "metadata": {
    "collapsed": false,
    "jupyter": {
     "outputs_hidden": false
    }
   },
   "outputs": [
    {
     "name": "stderr",
     "output_type": "stream",
     "text": [
      "/opt/conda/lib/python3.7/site-packages/patsy/constraint.py:13: DeprecationWarning: Using or importing the ABCs from 'collections' instead of from 'collections.abc' is deprecated since Python 3.3,and in 3.9 it will stop working\n",
      "  from collections import Mapping\n"
     ]
    },
    {
     "data": {
      "image/png": "[encoded data removed]",
      "text/plain": [
       "<Figure size 1152x432 with 1 Axes>"
      ]
     },
     "metadata": {
      "needs_background": "light"
     },
     "output_type": "display_data"
    }
   ],
   "source": [
    "# scatter plot of X and y\n",
    "from statsmodels import regression\n",
    "import statsmodels.api as sm\n",
    "def linreg(X,Y):\n",
    "    # Running the linear regression\n",
    "    X = sm.add_constant(X)\n",
    "    model = regression.linear_model.OLS(Y, X).fit()\n",
    "    a = model.params[0]\n",
    "    b = model.params[1]\n",
    "    X = X[:, 1]\n",
    "\n",
    "    # Return summary of the regression and plot results\n",
    "    X2 = np.linspace(X.min(), X.max(), 100)\n",
    "    Y_hat = X2 * b + a\n",
    "    plt.scatter(X, Y, alpha=0.3) # Plot the raw data\n",
    "    plt.plot(X2, Y_hat, 'r', alpha=0.9);  # Add the regression line, colored in red\n",
    "    plt.xlabel('X Value')\n",
    "    plt.ylabel('Y Value')\n",
    "    return model.summary()\n",
    "\n",
    "linreg(X, Y)\n",
    "plt.scatter(X, Y)\n",
    "plt.title('Scatter plot and linear equation of x as a function of y')\n",
    "plt.xlabel('X')\n",
    "plt.ylabel('Y')\n",
    "plt.legend(['Linear equation', 'Scatter Plot']);"
   ]
  },
  {
   "cell_type": "markdown",
   "metadata": {},
   "source": [
    "Between the covariance, the linear regression, and our knowledge of how $X$ and $Y$ are related, we can easily assess the relationship between our toy variables. With real data, there are two main complicating factors. The first is that we are examining significantly more relationships. The second is that we do not know any of their underlying relationships. These hindrances speak to the benefit of having accurate estimates of covariance matrices."
   ]
  },
  {
   "cell_type": "markdown",
   "metadata": {},
   "source": [
    "## The Covariance Matrix\n",
    "\n",
    "As the number of assets we are curious about increases, so too do the dimensions of the covariance matrix that describes their relationships. If we take the covariance between $N$ assets, we will get out a $N \\times N$ covariance matrix. This allows us to efficiently express the relationships between many arrays at once. As with the simple $2\\times 2$ case, the $i$-th diagonal is the variance of the $i$-th asset and the values at $(i, j)$ and $(j, i)$ refer to the covariance between asset $i$ and asset $j$. We display this with the following notation:\n",
    "\n",
    "$$ \\Sigma = \\left[\\begin{matrix}\n",
    "VAR(X_1) & COV(X_1, X_2) & \\cdots & COV(X_1, X_N) \\\\\n",
    "COV(X_2, X_0) & VAR(X_2) & \\cdots & COV(X_2, X_N) \\\\\n",
    "\\vdots & \\vdots & \\ddots & \\vdots \\\\\n",
    "COV(X_N, X_1) & COV(X_N, X_2) & \\cdots & VAR(X_N)\n",
    "\\end{matrix}\\right] $$  \n",
    "\n",
    "When trying to find the covariance of many assets, it quickly becomes apparent why the matrix notation is more favorable. "
   ]
  },
  {
   "cell_type": "code",
   "execution_count": 6,
   "metadata": {
    "collapsed": false,
    "jupyter": {
     "outputs_hidden": false
    }
   },
   "outputs": [
    {
     "name": "stdout",
     "output_type": "stream",
     "text": [
      "Covariance matrix:\n",
      "Sid       AAPL      GILD        GS      SBUX\n",
      "Sid                                         \n",
      "AAPL  0.000755  0.000243  0.000467  0.000336\n",
      "GILD  0.000243  0.000544  0.000133  0.000078\n",
      "GS    0.000467  0.000133  0.000539  0.000339\n",
      "SBUX  0.000336  0.000078  0.000339  0.000451\n"
     ]
    }
   ],
   "source": [
    "from quantrocket.master import get_securities\n",
    "from quantrocket import get_prices\n",
    "\n",
    "# Four asset example of the covariance matrix.\n",
    "symbol_list = ['SBUX', 'AAPL', 'GS', 'GILD']\n",
    "\n",
    "securities = get_securities(symbols=symbol_list, vendors='usstock')\n",
    "\n",
    "start_date = '2016-01-01'\n",
    "end_date = '2016-02-01'\n",
    "\n",
    "prices = get_prices(\"usstock-1min\", data_frequency='daily', sids=securities.index.tolist(), start_date=start_date, end_date=end_date, fields='Close')\n",
    "returns = prices.loc['Close'].pct_change()[1:]\n",
    "\n",
    "sids_to_symbols = securities.Symbol.to_dict()\n",
    "returns = returns.rename(columns=sids_to_symbols)\n",
    "\n",
    "print('Covariance matrix:')\n",
    "print(returns.cov())"
   ]
  },
  {
   "cell_type": "markdown",
   "metadata": {},
   "source": [
    "## Why does all this matter?  \n",
    "\n",
    "We measure the covariance of the assets in our portfolio to make sure we have an accurate picture of the risks involved in holding those assets together. We want to apportion our capital amongst these assets in such a way as to minimize our exposure to the risks associated with each individual asset and to neutralize exposure to systematic risk. This is done through the process of portfolio optimization. Portfolio optimization routines go through exactly this process, finding the appropriate weights for each asset given its risks. Mean-variance optimization, a staple of MPT, does exactly this. \n",
    "\n",
    "Estimating the covariance matrix becomes critical when using methods that rely on it, as we cannot know the true statistical relationships underlying our chosen assets. The stability and accuracy of these estimates are essential to getting stable weights that encapsulate our risks and intentions.\n",
    "\n",
    "Unfortunately, the most obvious way to calculate a covariance matrix estimate, the sample covariance, is notoriously unstable. If we have fewer time observations of our assets than the number of assets ($T < N$), the estimate becomes especially unreliable. The extreme values react more strongly to changes, and as the extreme values of the covariance jump around, our optimizers are perturbed, giving us inconsistent weights. This is a problem when we are trying to make many independent bets on many assets to improve our risk exposures through diversification. Even if we have more time elements than assets that we are trading, we can run into issues, as the time component may span multiple regimes, giving us covariance matrices that are still inaccurate.\n",
    "\n",
    "The solution in many cases is to use a robust formulation of the covariance matrix. If we can estimate a covariance matrix that still captures the relationships between assets and is simultaneously more stable, then we can have more faith in the output of our optimizers. A main way that we handle this is by using some form of a shrinkage estimator."
   ]
  },
  {
   "cell_type": "markdown",
   "metadata": {},
   "source": [
    "# Shrinkage Estimators\n",
    "\n",
    "The concept of shrinkage stems from the need for stable covariance matrices. The basic way we \"shrink\" a matrix is to reduce the extreme values of the sample covariance matrix by pulling them closer to the center. Practically, we take a linear combination of the sample covariance covariance matrix a constant array representing the center.\n",
    "\n",
    "Given a sample covariance matrix, $\\textbf{S}$, the mean variance, $\\mu$, and the shrinkage constant $\\delta$, the shrunk estimated covariance is mathematically defined as:   \n",
    "\n",
    "$$(1 - \\delta)\\textbf{S} + \\delta\\mu\\textbf{1}$$  \n",
    " \n",
    "We restrict $\\delta$ such that $0 \\leq \\delta \\leq 1$ making this a weighted average between the sample covariance and the mean variance matrix. The optimal value of $\\delta$ has been tackled several times. For our purposes, we will use the formulation by Ledoit and Wolf.\n",
    "\n",
    "## Ledoit-Wolf Estimator.\n",
    "\n",
    "In [their paper](http://ledoit.net/honey.pdf), Ledoit and Wolf  proposed an optimal $\\delta$: \n",
    "\n",
    "$$\\hat\\delta^* \\max\\{0, \\min\\{\\frac{\\hat\\kappa}{T},1\\}\\}$$\n",
    "\n",
    "$\\hat\\kappa$ has a mathematical formulation that is beyond the scope of this lecture, but you can find its definition in the paper.\n",
    "\n",
    "The Ledoit-Wolf Estimator is the robust covariance estimate that uses this optimal $\\hat\\delta^*$ to shrink the sample covariance matrix. We can draw an implementation of it directly from `scikit-learn` for easy use."
   ]
  },
  {
   "cell_type": "code",
   "execution_count": 7,
   "metadata": {
    "collapsed": false,
    "jupyter": {
     "outputs_hidden": false
    }
   },
   "outputs": [
    {
     "data": {
      "text/html": [
       "<div>\n",
       "<style scoped>\n",
       "    .dataframe tbody tr th:only-of-type {\n",
       "        vertical-align: middle;\n",
       "    }\n",
       "\n",
       "    .dataframe tbody tr th {\n",
       "        vertical-align: top;\n",
       "    }\n",
       "\n",
       "    .dataframe thead th {\n",
       "        text-align: right;\n",
       "    }\n",
       "</style>\n",
       "<table border=\"1\" class=\"dataframe\">\n",
       "  <thead>\n",
       "    <tr style=\"text-align: right;\">\n",
       "      <th>Sid</th>\n",
       "      <th>AAPL</th>\n",
       "      <th>BRK.A</th>\n",
       "      <th>FDX</th>\n",
       "      <th>GE</th>\n",
       "      <th>MSFT</th>\n",
       "      <th>SBUX</th>\n",
       "    </tr>\n",
       "    <tr>\n",
       "      <th>Date</th>\n",
       "      <th></th>\n",
       "      <th></th>\n",
       "      <th></th>\n",
       "      <th></th>\n",
       "      <th></th>\n",
       "      <th></th>\n",
       "    </tr>\n",
       "  </thead>\n",
       "  <tbody>\n",
       "    <tr>\n",
       "      <th>2016-01-05</th>\n",
       "      <td>-0.025059</td>\n",
       "      <td>0.003591</td>\n",
       "      <td>0.008506</td>\n",
       "      <td>0.000977</td>\n",
       "      <td>0.004562</td>\n",
       "      <td>0.006699</td>\n",
       "    </tr>\n",
       "    <tr>\n",
       "      <th>2016-01-06</th>\n",
       "      <td>-0.019570</td>\n",
       "      <td>0.002107</td>\n",
       "      <td>-0.026823</td>\n",
       "      <td>-0.015940</td>\n",
       "      <td>-0.018165</td>\n",
       "      <td>-0.008861</td>\n",
       "    </tr>\n",
       "    <tr>\n",
       "      <th>2016-01-07</th>\n",
       "      <td>-0.042205</td>\n",
       "      <td>-0.009295</td>\n",
       "      <td>-0.043901</td>\n",
       "      <td>-0.042314</td>\n",
       "      <td>-0.034783</td>\n",
       "      <td>-0.024784</td>\n",
       "    </tr>\n",
       "    <tr>\n",
       "      <th>2016-01-08</th>\n",
       "      <td>0.005288</td>\n",
       "      <td>-0.008590</td>\n",
       "      <td>0.000892</td>\n",
       "      <td>-0.017950</td>\n",
       "      <td>0.003067</td>\n",
       "      <td>-0.001044</td>\n",
       "    </tr>\n",
       "    <tr>\n",
       "      <th>2016-01-11</th>\n",
       "      <td>0.016192</td>\n",
       "      <td>-0.004332</td>\n",
       "      <td>-0.012917</td>\n",
       "      <td>0.004569</td>\n",
       "      <td>-0.000573</td>\n",
       "      <td>0.021011</td>\n",
       "    </tr>\n",
       "  </tbody>\n",
       "</table>\n",
       "</div>"
      ],
      "text/plain": [
       "Sid             AAPL     BRK.A       FDX        GE      MSFT      SBUX\n",
       "Date                                                                  \n",
       "2016-01-05 -0.025059  0.003591  0.008506  0.000977  0.004562  0.006699\n",
       "2016-01-06 -0.019570  0.002107 -0.026823 -0.015940 -0.018165 -0.008861\n",
       "2016-01-07 -0.042205 -0.009295 -0.043901 -0.042314 -0.034783 -0.024784\n",
       "2016-01-08  0.005288 -0.008590  0.000892 -0.017950  0.003067 -0.001044\n",
       "2016-01-11  0.016192 -0.004332 -0.012917  0.004569 -0.000573  0.021011"
      ]
     },
     "execution_count": 7,
     "metadata": {},
     "output_type": "execute_result"
    }
   ],
   "source": [
    "# Getting the return data of assets. \n",
    "start = '2016-01-01'\n",
    "end = '2016-02-01'\n",
    "\n",
    "symbols = ['AAPL', 'MSFT', 'BRK.A', 'GE', 'FDX', 'SBUX']\n",
    "\n",
    "securities = get_securities(symbols=symbols, vendors='usstock')\n",
    "\n",
    "prices = get_prices(\"usstock-1min\", data_frequency='daily', sids=securities.index.tolist(), start_date=start_date, end_date=end_date, fields='Close')\n",
    "returns = prices.loc['Close'].pct_change()[1:]\n",
    "\n",
    "sids_to_symbols = securities.Symbol.to_dict()\n",
    "returns = returns.rename(columns=sids_to_symbols)\n",
    "\n",
    "returns.head()"
   ]
  },
  {
   "cell_type": "markdown",
   "metadata": {},
   "source": [
    "Here we calculate the in-sample Ledoit-Wolf estimator."
   ]
  },
  {
   "cell_type": "code",
   "execution_count": 8,
   "metadata": {
    "collapsed": false,
    "jupyter": {
     "outputs_hidden": false
    }
   },
   "outputs": [
    {
     "name": "stdout",
     "output_type": "stream",
     "text": [
      "[[0.00066814 0.00014687 0.00028375 0.00020436 0.00041898 0.00026362]\n",
      " [0.00014687 0.00020807 0.00017612 0.00012173 0.00016557 0.00015173]\n",
      " [0.00028375 0.00017612 0.00046565 0.00021758 0.00034163 0.00024734]\n",
      " [0.00020436 0.00012173 0.00021758 0.0003382  0.00023617 0.00023588]\n",
      " [0.00041898 0.00016557 0.00034163 0.00023617 0.00051674 0.0002286 ]\n",
      " [0.00026362 0.00015173 0.00024734 0.00023588 0.0002286  0.00042869]]\n"
     ]
    }
   ],
   "source": [
    "in_sample_lw = covariance.ledoit_wolf(returns)[0]\n",
    "print(in_sample_lw)"
   ]
  },
  {
   "cell_type": "markdown",
   "metadata": {},
   "source": [
    "### Calculating Errors\n",
    "\n",
    "We can quantify the difference between the in and out-of-sample estimates by taking the absolute difference element-by-element for the two matrices. We represent this mathematically as: \n",
    "\n",
    "$$ \\frac{1}{n} \\sum_{i=1}^{n} |a_i - b_i| $$\n",
    "\n",
    "First, we calculate the out-of-sample estimate and then we compare."
   ]
  },
  {
   "cell_type": "code",
   "execution_count": 9,
   "metadata": {
    "collapsed": false,
    "jupyter": {
     "outputs_hidden": false
    }
   },
   "outputs": [
    {
     "name": "stdout",
     "output_type": "stream",
     "text": [
      "Average Ledoit-Wolf error: 0.000564354014830628\n"
     ]
    }
   ],
   "source": [
    "oos_start = '2016-02-01'\n",
    "oos_end = '2016-03-01'\n",
    "\n",
    "oos_prices = get_prices(\"usstock-1min\", data_frequency='daily', sids=securities.index.tolist(), start_date=oos_start, end_date=oos_end, fields='Close')\n",
    "oos_returns = oos_prices.loc['Close'].pct_change()[1:]\n",
    "oos_returns = oos_returns.rename(columns=sids_to_symbols)\n",
    "out_sample_lw = covariance.ledoit_wolf(oos_returns)[0]\n",
    "\n",
    "lw_errors = sum(abs(np.subtract(in_sample_lw, out_sample_lw)))\n",
    "print(\"Average Ledoit-Wolf error:\", np.mean(lw_errors))"
   ]
  },
  {
   "cell_type": "markdown",
   "metadata": {},
   "source": [
    "### Comparing to Sample Matrix\n",
    "\n",
    "We can check how much of an improvement this is by comparing the errors with the erros of the sample covariance."
   ]
  },
  {
   "cell_type": "code",
   "execution_count": 10,
   "metadata": {
    "collapsed": false,
    "jupyter": {
     "outputs_hidden": false
    }
   },
   "outputs": [
    {
     "name": "stdout",
     "output_type": "stream",
     "text": [
      "Average sample covariance error: 0.0006774932992854167\n"
     ]
    }
   ],
   "source": [
    "sample_errors = sum(abs(np.subtract(returns.cov().values, oos_returns.cov().values)))\n",
    "print('Average sample covariance error:', np.mean(sample_errors))"
   ]
  },
  {
   "cell_type": "code",
   "execution_count": 11,
   "metadata": {
    "collapsed": false,
    "jupyter": {
     "outputs_hidden": false
    }
   },
   "outputs": [
    {
     "name": "stdout",
     "output_type": "stream",
     "text": [
      "Error improvement of LW over sample: 19.25%\n"
     ]
    }
   ],
   "source": [
    "print('Error improvement of LW over sample: {0:.2f}%'.format((np.mean(sample_errors/lw_errors)-1)*100))"
   ]
  },
  {
   "cell_type": "markdown",
   "metadata": {},
   "source": [
    "We can see that the improvement of Ledoit-Wolf over the sample covariance is pretty solid. This translates into decreased volatility and turnover rate in our portfolio, and thus increased returns when using the shrunk covariance matrix. "
   ]
  },
  {
   "cell_type": "code",
   "execution_count": 12,
   "metadata": {
    "collapsed": false,
    "jupyter": {
     "outputs_hidden": false
    }
   },
   "outputs": [
    {
     "data": {
      "image/png": "[encoded data removed]",
      "text/plain": [
       "<Figure size 1152x432 with 1 Axes>"
      ]
     },
     "metadata": {
      "needs_background": "light"
     },
     "output_type": "display_data"
    }
   ],
   "source": [
    "sns.boxplot(\n",
    "    data = pd.DataFrame({\n",
    "        'Sample Covariance Error': sample_errors,\n",
    "        'Ledoit-Wolf Error': lw_errors\n",
    "    })\n",
    ")\n",
    "plt.title('Box Plot of Errors')\n",
    "plt.ylabel('Error');"
   ]
  },
  {
   "cell_type": "markdown",
   "metadata": {},
   "source": [
    "### Adding More Assets\n",
    "\n",
    "Now we bring this to more assets over a longer time period. Let's see how the errors change over a series of months."
   ]
  },
  {
   "cell_type": "code",
   "execution_count": 13,
   "metadata": {
    "collapsed": false,
    "jupyter": {
     "outputs_hidden": false
    }
   },
   "outputs": [],
   "source": [
    "start_date = '2016-01-01'\n",
    "end_date = '2017-06-01'\n",
    "\n",
    "symbols = [\n",
    "    'SPY', 'XLF', 'XLE', 'XLU','XLK', 'XLI', 'XLB', 'GE', 'GS', 'BRK.A', 'JPM', 'AAPL', 'MMM', 'BA',\n",
    "    'CSCO','KO', 'DIS','DD', 'XOM', 'INTC', 'IBM', 'NKE', 'MSFT', 'PG', 'UTX', 'HD', 'MCD', 'CVX', \n",
    "    'AXP','JNJ', 'MRK', 'CAT', 'PFE', 'TRV', 'UNH', 'WMT', 'VZ', 'QQQ', 'BAC', 'F', 'C', 'CMCSA',\n",
    "    'MS', 'ORCL', 'PEP', 'HON', 'GILD', 'LMT', 'UPS', 'HP', 'FDX', 'GD', 'SBUX'\n",
    "]\n",
    "\n",
    "securities = get_securities(symbols=symbols, vendors='usstock')\n",
    "\n",
    "prices = get_prices(\"usstock-1min\", data_frequency='daily', sids=securities.index.tolist(), start_date=start_date, end_date=end_date, fields='Close')\n",
    "returns = prices.loc['Close'].pct_change()[1:]\n",
    "\n",
    "sids_to_symbols = securities.Symbol.to_dict()\n",
    "returns = returns.rename(columns=sids_to_symbols)\n",
    "\n",
    "dates = returns.resample('M').first().index"
   ]
  },
  {
   "cell_type": "markdown",
   "metadata": {},
   "source": [
    "Here we calculate our different covariance estimates."
   ]
  },
  {
   "cell_type": "code",
   "execution_count": 14,
   "metadata": {
    "collapsed": false,
    "jupyter": {
     "outputs_hidden": false
    }
   },
   "outputs": [],
   "source": [
    "sample_covs = []\n",
    "lw_covs = []\n",
    "\n",
    "for i in range(1, len(dates)):\n",
    "    sample_cov = returns[dates[i-1]:dates[i]].cov().values\n",
    "    sample_covs.append(sample_cov)\n",
    "    \n",
    "    lw_cov = covariance.ledoit_wolf(returns[dates[i-1]:dates[i]])[0]\n",
    "    lw_covs.append(lw_cov)      "
   ]
  },
  {
   "cell_type": "markdown",
   "metadata": {},
   "source": [
    "Here we calculate the error for each time period."
   ]
  },
  {
   "cell_type": "code",
   "execution_count": 15,
   "metadata": {
    "collapsed": false,
    "jupyter": {
     "outputs_hidden": false
    }
   },
   "outputs": [],
   "source": [
    "lw_diffs = []\n",
    "for pair in zip(lw_covs[:-1], lw_covs[1:]):\n",
    "    diff = np.mean(np.sum(np.abs(pair[0] - pair[1])))\n",
    "    lw_diffs.append(diff)\n",
    "    \n",
    "sample_diffs = []\n",
    "for pair in zip(sample_covs[:-1], sample_covs[1:]):\n",
    "    diff = np.mean(np.sum(np.abs(pair[0] - pair[1])))\n",
    "    sample_diffs.append(diff)"
   ]
  },
  {
   "cell_type": "markdown",
   "metadata": {},
   "source": [
    "And here we plot the errors over time!"
   ]
  },
  {
   "cell_type": "code",
   "execution_count": 16,
   "metadata": {
    "collapsed": false,
    "jupyter": {
     "outputs_hidden": false
    }
   },
   "outputs": [
    {
     "data": {
      "image/png": "[encoded data removed]",
      "text/plain": [
       "<Figure size 1152x432 with 1 Axes>"
      ]
     },
     "metadata": {
      "needs_background": "light"
     },
     "output_type": "display_data"
    }
   ],
   "source": [
    "plt.plot(dates[2:], lw_diffs)\n",
    "plt.plot(dates[2:], sample_diffs)\n",
    "plt.xlabel('Time')\n",
    "plt.ylabel('Mean Error')\n",
    "plt.legend(['Ledoit-Wolf Errors', 'Sample Covariance Errors']);"
   ]
  },
  {
   "cell_type": "markdown",
   "metadata": {},
   "source": [
    "We can see that the mean errors of Ledoit-Wolf are lower than those of the sample covariance matrix. This shows us that the sample sample covariance matrix is less robust. This example only used 50 assets, but as we add more, the Ledoit-Wolf estimator would likely perform even better as the number of assets outpaces the number of observations."
   ]
  },
  {
   "cell_type": "markdown",
   "metadata": {},
   "source": [
    "---\n",
    "\n",
    "**Next Lecture:** [Introduction to Volume, Slippage, and Liquidity](Lecture27-Introduction-to-Volume-Slippage-and-Liquidity.ipynb)\n",
    "\n",
    "[Back to Introduction](Introduction.ipynb) "
   ]
  },
  {
   "cell_type": "markdown",
   "metadata": {},
   "source": [
    "---\n",
    "\n",
    "*This presentation is for informational purposes only and does not constitute an offer to sell, a solicitation to buy, or a recommendation for any security; nor does it constitute an offer to provide investment advisory or other services by Quantopian, Inc. (\"Quantopian\") or QuantRocket LLC (\"QuantRocket\"). Nothing contained herein constitutes investment advice or offers any opinion with respect to the suitability of any security, and any views expressed herein should not be taken as advice to buy, sell, or hold any security or as an endorsement of any security or company.  In preparing the information contained herein, neither Quantopian nor QuantRocket has taken into account the investment needs, objectives, and financial circumstances of any particular investor. Any views expressed and data illustrated herein were prepared based upon information believed to be reliable at the time of publication. Neither Quantopian nor QuantRocket makes any guarantees as to their accuracy or completeness. All information is subject to change and may quickly become unreliable for various reasons, including changes in market conditions or economic circumstances.*"
   ]
  }
 ],
 "metadata": {
  "kernelspec": {
   "display_name": "Python 3",
   "language": "python",
   "name": "python3"
  },
  "language_info": {
   "codemirror_mode": {
    "name": "ipython",
    "version": 3
   },
   "file_extension": ".py",
   "mimetype": "text/x-python",
   "name": "python",
   "nbconvert_exporter": "python",
   "pygments_lexer": "ipython3",
   "version": "3.7.6"
  }
 },
 "nbformat": 4,
 "nbformat_minor": 4
}
