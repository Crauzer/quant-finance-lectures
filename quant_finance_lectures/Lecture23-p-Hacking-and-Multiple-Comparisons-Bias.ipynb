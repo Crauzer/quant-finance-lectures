{
 "cells": [
  {
   "cell_type": "markdown",
   "metadata": {},
   "source": [
    "<img alt=\"QuantRocket logo\" src=\"https://www.quantrocket.com/assets/img/notebook-header-logo.png\">\n",
    "\n",
    "© Copyright Quantopian Inc.<br>\n",
    "© Modifications Copyright QuantRocket LLC<br>\n",
    "Licensed under the [Creative Commons Attribution 4.0](https://creativecommons.org/licenses/by/4.0/legalcode).\n",
    "\n",
    "<a href=\"https://www.quantrocket.com/disclaimer/\">Disclaimer</a>"
   ]
  },
  {
   "cell_type": "markdown",
   "metadata": {},
   "source": [
    "# p-Hacking and Multiple Comparisons Bias\n",
    "\n",
    "By Delaney Mackenzie and Maxwell Margenot"
   ]
  },
  {
   "cell_type": "markdown",
   "metadata": {},
   "source": [
    "Multiple comparisons bias is a pervasive problem in statistics, data science, and in general forecasting/predictions. The short explanation is that the more tests you run, the more likely you are to get an outcome that you want/expect. If you ignore the multitude of tests that failed, you are clearly setting yourself up for failure by misinterpreting what's going on in your data.\n",
    "\n",
    "A particularly common example of this is when looking for relationships in large data sets comprising many indepedent series or variables. In this case you run a test each time you evaluate whether a relationship exists between a set of variables.\n",
    "\n",
    "\n",
    "## Statistics Merely Illuminates This Issue\n",
    "\n",
    "Most folks also fall prey to multiple comparisons bias in real life. Any time you make a decision you are effectively taking an action based on an hypothesis. That hypothesis is often tested. You can end up unknowingly making many tests in your daily life.\n",
    "\n",
    "An example might be deciding which medicine is helping cure a cold you have. Many people will take multiple medicines at once to try and get rid of symptoms. You may think that a certain medicine worked, when in reality none did and the cold just happened to start getting better at some point.\n",
    "\n",
    "The point here is that this problem doesn't stem from statistical testing and p-values. Rather, these techniques give us much more information about the problem and when it might be occuring."
   ]
  },
  {
   "cell_type": "code",
   "execution_count": 1,
   "metadata": {},
   "outputs": [],
   "source": [
    "import numpy as np\n",
    "import pandas as pd\n",
    "import scipy.stats as stats\n",
    "import matplotlib.pyplot as plt"
   ]
  },
  {
   "cell_type": "markdown",
   "metadata": {},
   "source": [
    "## Refresher: Spearman Rank Correlation\n",
    "\n",
    "Please refer to [this lecture](Lecture22-Spearman-Rank-Correlation.ipynb) for more full info, but here is a very brief refresher on Spearman Rank Correlation.\n",
    "\n",
    "It's a variation of correlation that takes into account the ranks of the data. This can help with weird distributions or outliers that would confuse other measures. The test also returns a p-value, which is key here."
   ]
  },
  {
   "cell_type": "markdown",
   "metadata": {},
   "source": [
    "A higher coefficient means a stronger estimated relationship."
   ]
  },
  {
   "cell_type": "code",
   "execution_count": 2,
   "metadata": {
    "collapsed": false,
    "jupyter": {
     "outputs_hidden": false
    }
   },
   "outputs": [
    {
     "name": "stdout",
     "output_type": "stream",
     "text": [
      "Spearman Rank Coefficient: 1.0\n",
      "p-value: 0.0\n"
     ]
    }
   ],
   "source": [
    "X = pd.Series(np.random.normal(0, 1, 100))\n",
    "Y = X\n",
    "\n",
    "r_s = stats.spearmanr(Y, X)\n",
    "print('Spearman Rank Coefficient:', r_s[0])\n",
    "print('p-value:', r_s[1])"
   ]
  },
  {
   "cell_type": "markdown",
   "metadata": {},
   "source": [
    "If we add some noise our coefficient will drop."
   ]
  },
  {
   "cell_type": "code",
   "execution_count": 3,
   "metadata": {
    "collapsed": false,
    "jupyter": {
     "outputs_hidden": false
    }
   },
   "outputs": [
    {
     "name": "stdout",
     "output_type": "stream",
     "text": [
      "Spearman Rank Coefficient: 0.579825982598\n",
      "p-value: 2.5918483153e-10\n"
     ]
    }
   ],
   "source": [
    "X = pd.Series(np.random.normal(0, 1, 100))\n",
    "Y = X + np.random.normal(0, 1, 100)\n",
    "\n",
    "r_s = stats.spearmanr(Y, X)\n",
    "print('Spearman Rank Coefficient:', r_s[0])\n",
    "print('p-value:', r_s[1])"
   ]
  },
  {
   "cell_type": "markdown",
   "metadata": {},
   "source": [
    "## p-value Refresher\n",
    "\n",
    "For more info on p-values see [this lecture](Lecture20-Hypothesis-Testing.ipynb). What's important to remember is that p-values are used to test a hypothesis given some data. Here we are testing the hypothesis that a relationship exists between two series given the series values.\n",
    "\n",
    "### IMPORTANT: p-values must be treated as binary\n",
    "\n",
    "A common mistake is that p-values are treated as more or less significant. This is bad practice as it allows for what's known as [p-hacking](https://en.wikipedia.org/wiki/Data_dredging) and will result in more false positives than you expect. Effectively, you will be too likely to convince yourself that relationships exist in your data.\n",
    "\n",
    "To treat p-values as binary, a cutoff must be set in advance. Then the p-value must be compared with the cutoff and treated as significant/not signficant. Here we'll show this.\n",
    "\n",
    "### The Cutoff is our Significance Level\n",
    "\n",
    "We can refer to the cutoff as our significance level because a lower cutoff means that results which pass it are significant at a higher level of confidence. So if you have a cutoff of 0.05, then even on random data 5% of tests will pass based on chance. A cutoff of 0.01 reduces this to 1%, which is a more stringent test. We can therefore have more confidence in our results."
   ]
  },
  {
   "cell_type": "code",
   "execution_count": 4,
   "metadata": {
    "collapsed": false,
    "jupyter": {
     "outputs_hidden": false
    }
   },
   "outputs": [
    {
     "name": "stdout",
     "output_type": "stream",
     "text": [
      "Spearman Rank Coefficient: 0.64600060006\n",
      "There is significant evidence of a relationship.\n"
     ]
    }
   ],
   "source": [
    "# Setting a cutoff of 5% means that there is a 5% chance\n",
    "# of us getting a significant p-value given no relationship\n",
    "# in our data (false positive).\n",
    "# NOTE: This is only true if the test's assumptions have been\n",
    "# satisfied and the test is therefore properly calibrated.\n",
    "# All tests have different assumptions.\n",
    "cutoff = 0.05\n",
    "\n",
    "X = pd.Series(np.random.normal(0, 1, 100))\n",
    "Y = X + np.random.normal(0, 1, 100)\n",
    "\n",
    "r_s = stats.spearmanr(Y, X)\n",
    "print('Spearman Rank Coefficient:', r_s[0])\n",
    "if r_s[1] < cutoff:\n",
    "    print('There is significant evidence of a relationship.')\n",
    "else:\n",
    "    print('There is not significant evidence of a relationship.')"
   ]
  },
  {
   "cell_type": "markdown",
   "metadata": {},
   "source": [
    "## Experiment - Running Many Tests\n",
    "\n",
    "We'll start by defining a data frame."
   ]
  },
  {
   "cell_type": "code",
   "execution_count": 5,
   "metadata": {},
   "outputs": [],
   "source": [
    "df = pd.DataFrame()"
   ]
  },
  {
   "cell_type": "markdown",
   "metadata": {},
   "source": [
    "Now we'll populate it by adding `N` randomly generated timeseries of length `T`."
   ]
  },
  {
   "cell_type": "code",
   "execution_count": 6,
   "metadata": {
    "collapsed": false,
    "jupyter": {
     "outputs_hidden": false
    }
   },
   "outputs": [],
   "source": [
    "N = 20\n",
    "T = 100\n",
    "\n",
    "for i in range(N):\n",
    "    X = np.random.normal(0, 1, T)\n",
    "    X = pd.Series(X)\n",
    "    name = 'X%s' % i\n",
    "    df[name] = X"
   ]
  },
  {
   "cell_type": "code",
   "execution_count": 7,
   "metadata": {
    "collapsed": false,
    "jupyter": {
     "outputs_hidden": false
    }
   },
   "outputs": [
    {
     "data": {
      "text/html": [
       "<div>\n",
       "<style scoped>\n",
       "    .dataframe tbody tr th:only-of-type {\n",
       "        vertical-align: middle;\n",
       "    }\n",
       "\n",
       "    .dataframe tbody tr th {\n",
       "        vertical-align: top;\n",
       "    }\n",
       "\n",
       "    .dataframe thead th {\n",
       "        text-align: right;\n",
       "    }\n",
       "</style>\n",
       "<table border=\"1\" class=\"dataframe\">\n",
       "  <thead>\n",
       "    <tr style=\"text-align: right;\">\n",
       "      <th></th>\n",
       "      <th>X0</th>\n",
       "      <th>X1</th>\n",
       "      <th>X2</th>\n",
       "      <th>X3</th>\n",
       "      <th>X4</th>\n",
       "      <th>X5</th>\n",
       "      <th>X6</th>\n",
       "      <th>X7</th>\n",
       "      <th>X8</th>\n",
       "      <th>X9</th>\n",
       "      <th>X10</th>\n",
       "      <th>X11</th>\n",
       "      <th>X12</th>\n",
       "      <th>X13</th>\n",
       "      <th>X14</th>\n",
       "      <th>X15</th>\n",
       "      <th>X16</th>\n",
       "      <th>X17</th>\n",
       "      <th>X18</th>\n",
       "      <th>X19</th>\n",
       "    </tr>\n",
       "  </thead>\n",
       "  <tbody>\n",
       "    <tr>\n",
       "      <th>0</th>\n",
       "      <td>-0.944857</td>\n",
       "      <td>0.262774</td>\n",
       "      <td>0.565438</td>\n",
       "      <td>-0.020095</td>\n",
       "      <td>-0.822689</td>\n",
       "      <td>0.821560</td>\n",
       "      <td>0.365220</td>\n",
       "      <td>3.208077</td>\n",
       "      <td>-0.680868</td>\n",
       "      <td>-0.729680</td>\n",
       "      <td>0.309689</td>\n",
       "      <td>-1.224935</td>\n",
       "      <td>1.590862</td>\n",
       "      <td>-0.185500</td>\n",
       "      <td>0.502802</td>\n",
       "      <td>-0.282710</td>\n",
       "      <td>-0.117229</td>\n",
       "      <td>-0.338400</td>\n",
       "      <td>-1.658258</td>\n",
       "      <td>0.051959</td>\n",
       "    </tr>\n",
       "    <tr>\n",
       "      <th>1</th>\n",
       "      <td>0.147779</td>\n",
       "      <td>1.102093</td>\n",
       "      <td>-0.084898</td>\n",
       "      <td>-0.840051</td>\n",
       "      <td>-0.269978</td>\n",
       "      <td>-0.362220</td>\n",
       "      <td>0.765739</td>\n",
       "      <td>0.085569</td>\n",
       "      <td>-1.461742</td>\n",
       "      <td>0.590416</td>\n",
       "      <td>0.341912</td>\n",
       "      <td>-0.004983</td>\n",
       "      <td>-0.019195</td>\n",
       "      <td>0.257817</td>\n",
       "      <td>-0.103059</td>\n",
       "      <td>1.432177</td>\n",
       "      <td>-1.265389</td>\n",
       "      <td>0.122122</td>\n",
       "      <td>0.131645</td>\n",
       "      <td>-1.457365</td>\n",
       "    </tr>\n",
       "    <tr>\n",
       "      <th>2</th>\n",
       "      <td>-0.492894</td>\n",
       "      <td>-0.652687</td>\n",
       "      <td>0.848453</td>\n",
       "      <td>-0.007603</td>\n",
       "      <td>0.019538</td>\n",
       "      <td>2.466975</td>\n",
       "      <td>-1.616204</td>\n",
       "      <td>0.078176</td>\n",
       "      <td>-0.380635</td>\n",
       "      <td>0.606579</td>\n",
       "      <td>1.635402</td>\n",
       "      <td>-0.231532</td>\n",
       "      <td>0.114493</td>\n",
       "      <td>0.262624</td>\n",
       "      <td>-0.750527</td>\n",
       "      <td>0.410750</td>\n",
       "      <td>0.590358</td>\n",
       "      <td>-0.034061</td>\n",
       "      <td>-0.459266</td>\n",
       "      <td>0.963204</td>\n",
       "    </tr>\n",
       "    <tr>\n",
       "      <th>3</th>\n",
       "      <td>-1.797874</td>\n",
       "      <td>-0.890480</td>\n",
       "      <td>1.394752</td>\n",
       "      <td>1.625624</td>\n",
       "      <td>0.632890</td>\n",
       "      <td>-0.491813</td>\n",
       "      <td>0.599303</td>\n",
       "      <td>0.990625</td>\n",
       "      <td>0.169015</td>\n",
       "      <td>0.628340</td>\n",
       "      <td>-0.871761</td>\n",
       "      <td>0.853710</td>\n",
       "      <td>2.375404</td>\n",
       "      <td>0.138945</td>\n",
       "      <td>-0.772707</td>\n",
       "      <td>-0.693897</td>\n",
       "      <td>-0.382386</td>\n",
       "      <td>1.537303</td>\n",
       "      <td>-1.071759</td>\n",
       "      <td>-0.800344</td>\n",
       "    </tr>\n",
       "    <tr>\n",
       "      <th>4</th>\n",
       "      <td>-0.582921</td>\n",
       "      <td>0.341553</td>\n",
       "      <td>1.086083</td>\n",
       "      <td>-0.643745</td>\n",
       "      <td>-1.600969</td>\n",
       "      <td>0.885371</td>\n",
       "      <td>-0.271385</td>\n",
       "      <td>0.035265</td>\n",
       "      <td>-0.010428</td>\n",
       "      <td>0.425257</td>\n",
       "      <td>1.000603</td>\n",
       "      <td>1.008995</td>\n",
       "      <td>-2.011300</td>\n",
       "      <td>-0.435576</td>\n",
       "      <td>0.361658</td>\n",
       "      <td>-0.454335</td>\n",
       "      <td>1.505088</td>\n",
       "      <td>0.352673</td>\n",
       "      <td>1.149790</td>\n",
       "      <td>-0.802089</td>\n",
       "    </tr>\n",
       "  </tbody>\n",
       "</table>\n",
       "</div>"
      ],
      "text/plain": [
       "         X0        X1        X2        X3        X4        X5        X6  \\\n",
       "0 -0.944857  0.262774  0.565438 -0.020095 -0.822689  0.821560  0.365220   \n",
       "1  0.147779  1.102093 -0.084898 -0.840051 -0.269978 -0.362220  0.765739   \n",
       "2 -0.492894 -0.652687  0.848453 -0.007603  0.019538  2.466975 -1.616204   \n",
       "3 -1.797874 -0.890480  1.394752  1.625624  0.632890 -0.491813  0.599303   \n",
       "4 -0.582921  0.341553  1.086083 -0.643745 -1.600969  0.885371 -0.271385   \n",
       "\n",
       "         X7        X8        X9       X10       X11       X12       X13  \\\n",
       "0  3.208077 -0.680868 -0.729680  0.309689 -1.224935  1.590862 -0.185500   \n",
       "1  0.085569 -1.461742  0.590416  0.341912 -0.004983 -0.019195  0.257817   \n",
       "2  0.078176 -0.380635  0.606579  1.635402 -0.231532  0.114493  0.262624   \n",
       "3  0.990625  0.169015  0.628340 -0.871761  0.853710  2.375404  0.138945   \n",
       "4  0.035265 -0.010428  0.425257  1.000603  1.008995 -2.011300 -0.435576   \n",
       "\n",
       "        X14       X15       X16       X17       X18       X19  \n",
       "0  0.502802 -0.282710 -0.117229 -0.338400 -1.658258  0.051959  \n",
       "1 -0.103059  1.432177 -1.265389  0.122122  0.131645 -1.457365  \n",
       "2 -0.750527  0.410750  0.590358 -0.034061 -0.459266  0.963204  \n",
       "3 -0.772707 -0.693897 -0.382386  1.537303 -1.071759 -0.800344  \n",
       "4  0.361658 -0.454335  1.505088  0.352673  1.149790 -0.802089  "
      ]
     },
     "execution_count": 7,
     "metadata": {},
     "output_type": "execute_result"
    }
   ],
   "source": [
    "df.head()"
   ]
  },
  {
   "cell_type": "markdown",
   "metadata": {},
   "source": [
    "Now we'll run a test on all pairs within our data looking for instances where our p-value is below our defined cutoff of 5%."
   ]
  },
  {
   "cell_type": "code",
   "execution_count": 8,
   "metadata": {
    "collapsed": false,
    "jupyter": {
     "outputs_hidden": false
    }
   },
   "outputs": [],
   "source": [
    "cutoff = 0.05\n",
    "\n",
    "significant_pairs = []\n",
    "\n",
    "for i in range(N):\n",
    "    for j in range(i+1, N):\n",
    "        Xi = df.iloc[:, i]\n",
    "        Xj = df.iloc[:, j]\n",
    "        \n",
    "        results = stats.spearmanr(Xi, Xj)\n",
    "        \n",
    "        pvalue = results[1]\n",
    "        \n",
    "        if pvalue < cutoff:\n",
    "            significant_pairs.append((i, j))"
   ]
  },
  {
   "cell_type": "markdown",
   "metadata": {},
   "source": [
    "Before we check how many significant results we got, let's run out some math to check how many we'd expect. The formula for the number of pairs given N series is\n",
    "\n",
    "$$\\frac{N(N-1)}{2}$$\n",
    "\n",
    "There are no relationships in our data as it's all randomly generated. If our test is properly calibrated we should expect a false positive rate of 5% given our 5% cutoff. Therefore we should expect the following number of pairs that achieved significance based on pure random chance."
   ]
  },
  {
   "cell_type": "code",
   "execution_count": 9,
   "metadata": {
    "collapsed": false,
    "jupyter": {
     "outputs_hidden": false
    }
   },
   "outputs": [
    {
     "data": {
      "text/plain": [
       "9.5"
      ]
     },
     "execution_count": 9,
     "metadata": {},
     "output_type": "execute_result"
    }
   ],
   "source": [
    "(N * (N-1) / 2) * 0.05"
   ]
  },
  {
   "cell_type": "markdown",
   "metadata": {},
   "source": [
    "Now let's compare to how many we actually found."
   ]
  },
  {
   "cell_type": "code",
   "execution_count": 10,
   "metadata": {
    "collapsed": false,
    "jupyter": {
     "outputs_hidden": false
    }
   },
   "outputs": [
    {
     "data": {
      "text/plain": [
       "8"
      ]
     },
     "execution_count": 10,
     "metadata": {},
     "output_type": "execute_result"
    }
   ],
   "source": [
    "len(significant_pairs)"
   ]
  },
  {
   "cell_type": "markdown",
   "metadata": {},
   "source": [
    "We shouldn't expect the numbers to match too closely here on a consistent basis as we've only run one experiment. If we run many of these experiments we should see a convergence to what we'd expect."
   ]
  },
  {
   "cell_type": "markdown",
   "metadata": {},
   "source": [
    "### Repeating the Experiment\n",
    "\n"
   ]
  },
  {
   "cell_type": "code",
   "execution_count": 11,
   "metadata": {
    "collapsed": false,
    "jupyter": {
     "outputs_hidden": false
    }
   },
   "outputs": [
    {
     "name": "stdout",
     "output_type": "stream",
     "text": [
      "The average result is: 9.29\n"
     ]
    }
   ],
   "source": [
    "from IPython.display import clear_output\n",
    "\n",
    "def do_experiment(N, T, cutoff=0.05):\n",
    "    df = pd.DataFrame()\n",
    "\n",
    "    # Make random data\n",
    "    for i in range(N):\n",
    "        X = np.random.normal(0, 1, T)\n",
    "        X = pd.Series(X)\n",
    "        name = 'X%s' % i\n",
    "        df[name] = X\n",
    "\n",
    "    significant_pairs = []\n",
    "\n",
    "    # Look for relationships\n",
    "    for i in range(N):\n",
    "        for j in range(i+1, N):\n",
    "            Xi = df.iloc[:, i]\n",
    "            Xj = df.iloc[:, j]\n",
    "\n",
    "            results = stats.spearmanr(Xi, Xj)\n",
    "\n",
    "            pvalue = results[1]\n",
    "\n",
    "            if pvalue < cutoff:\n",
    "                significant_pairs.append((i, j))\n",
    "    \n",
    "    return significant_pairs\n",
    "\n",
    "\n",
    "num_experiments = 100\n",
    "\n",
    "results = np.zeros((num_experiments,))\n",
    "\n",
    "for i in range(num_experiments):\n",
    "    print(f'trial {i+1} of {num_experiments}')\n",
    "    clear_output(wait=True)\n",
    "    \n",
    "    # Run a single experiment\n",
    "    result = do_experiment(20, 100, cutoff=0.05)\n",
    "    \n",
    "    # Count how many pairs\n",
    "    n = len(result)\n",
    "    \n",
    "    # Add to array\n",
    "    results[i] = n\n",
    "\n",
    "print('The average result is:', np.mean(results))"
   ]
  },
  {
   "cell_type": "markdown",
   "metadata": {},
   "source": [
    "The average over many experiments should be closer."
   ]
  },
  {
   "cell_type": "markdown",
   "metadata": {},
   "source": [
    "## Visualizing What's Going On\n",
    "\n",
    "What's happening here is that p-values should be uniformly distributed, given no signal in the underlying data. Basically, they carry no information whatsoever and will be equally likely to be 0.01 as 0.99. Because they're popping out randomly, you will expect a certain percentage of p-values to be underneath any threshold you choose. The lower the threshold the fewer will pass your test.\n",
    "\n",
    "Let's visualize this by making a modified function that returns p-values."
   ]
  },
  {
   "cell_type": "code",
   "execution_count": 12,
   "metadata": {
    "collapsed": false,
    "jupyter": {
     "outputs_hidden": false
    }
   },
   "outputs": [],
   "source": [
    "def get_pvalues_from_experiment(N, T):\n",
    "    df = pd.DataFrame()\n",
    "\n",
    "    # Make random data\n",
    "    for i in range(N):\n",
    "        X = np.random.normal(0, 1, T)\n",
    "        X = pd.Series(X)\n",
    "        name = 'X%s' % i\n",
    "        df[name] = X\n",
    "\n",
    "    pvalues = []\n",
    "\n",
    "    # Look for relationships\n",
    "    for i in range(N):\n",
    "        for j in range(i+1, N):\n",
    "            Xi = df.iloc[:, i]\n",
    "            Xj = df.iloc[:, j]\n",
    "\n",
    "            results = stats.spearmanr(Xi, Xj)\n",
    "\n",
    "            pvalue = results[1]\n",
    "\n",
    "            pvalues.append(pvalue)\n",
    "    \n",
    "    return pvalues\n"
   ]
  },
  {
   "cell_type": "markdown",
   "metadata": {},
   "source": [
    "We'll now collect a bunch of pvalues. As in any case we'll want to collect quite a number of p-values to start getting a sense of how the underlying distribution looks. If we only collect few, it will be noisy like this:"
   ]
  },
  {
   "cell_type": "code",
   "execution_count": 13,
   "metadata": {
    "collapsed": false,
    "jupyter": {
     "outputs_hidden": false
    }
   },
   "outputs": [
    {
     "data": {
      "image/png": "[encoded data removed]",
      "text/plain": [
       "<Figure size 1152x432 with 1 Axes>"
      ]
     },
     "metadata": {
      "needs_background": "light"
     },
     "output_type": "display_data"
    }
   ],
   "source": [
    "pvalues = get_pvalues_from_experiment(10, 100)\n",
    "plt.hist(pvalues)\n",
    "plt.ylabel('Frequency')\n",
    "plt.title('Observed p-value');"
   ]
  },
  {
   "cell_type": "markdown",
   "metadata": {},
   "source": [
    "Let's dial up our `N` parameter to get a better sense. Keep in mind that the number of p-values will increase at a rate of\n",
    "\n",
    "$$\\frac{N (N-1)}{2}$$\n",
    "\n",
    "or approximately quadratically. Therefore we don't need to increase `N` by much."
   ]
  },
  {
   "cell_type": "code",
   "execution_count": 14,
   "metadata": {
    "collapsed": false,
    "jupyter": {
     "outputs_hidden": false
    }
   },
   "outputs": [
    {
     "data": {
      "image/png": "[encoded data removed]",
      "text/plain": [
       "<Figure size 1152x432 with 1 Axes>"
      ]
     },
     "metadata": {
      "needs_background": "light"
     },
     "output_type": "display_data"
    }
   ],
   "source": [
    "pvalues = get_pvalues_from_experiment(50, 100)\n",
    "plt.hist(pvalues)\n",
    "plt.ylabel('Frequency')\n",
    "plt.title('Observed p-value');"
   ]
  },
  {
   "cell_type": "markdown",
   "metadata": {},
   "source": [
    "Starting to look pretty flat, as we expected. Lastly, just to visualize the process of drawing a cutoff, we'll draw two artificial lines."
   ]
  },
  {
   "cell_type": "code",
   "execution_count": 15,
   "metadata": {
    "collapsed": false,
    "jupyter": {
     "outputs_hidden": false
    }
   },
   "outputs": [
    {
     "data": {
      "image/png": "[encoded data removed]",
      "text/plain": [
       "<Figure size 1152x432 with 1 Axes>"
      ]
     },
     "metadata": {
      "needs_background": "light"
     },
     "output_type": "display_data"
    }
   ],
   "source": [
    "pvalues = get_pvalues_from_experiment(50, 100)\n",
    "plt.vlines(0.01, 0, 150, colors='r', linestyle='--', label='0.01 Cutoff')\n",
    "plt.vlines(0.05, 0, 150, colors='r', label='0.05 Cutoff')\n",
    "plt.hist(pvalues, label='P-Value Distribution')\n",
    "plt.legend()\n",
    "plt.ylabel('Frequency')\n",
    "plt.title('Observed p-value');"
   ]
  },
  {
   "cell_type": "markdown",
   "metadata": {},
   "source": [
    "We can see that with a lower cutoff we should expect to get fewer false positives. Let's check that with our above experiment."
   ]
  },
  {
   "cell_type": "code",
   "execution_count": 16,
   "metadata": {},
   "outputs": [
    {
     "name": "stdout",
     "output_type": "stream",
     "text": [
      "The average result is: 1.84\n"
     ]
    }
   ],
   "source": [
    "num_experiments = 100\n",
    "\n",
    "results = np.zeros((num_experiments,))\n",
    "\n",
    "for i in range(num_experiments):\n",
    "    print(f'trial {i+1} of {num_experiments}')\n",
    "    clear_output(wait=True)\n",
    "    \n",
    "    # Run a single experiment\n",
    "    result = do_experiment(20, 100, cutoff=0.01)\n",
    "    \n",
    "    # Count how many pairs\n",
    "    n = len(result)\n",
    "    \n",
    "    # Add to array\n",
    "    results[i] = n\n",
    "    \n",
    "print('The average result is:', np.mean(results))"
   ]
  },
  {
   "cell_type": "markdown",
   "metadata": {},
   "source": [
    "And finally compare it to what we expected."
   ]
  },
  {
   "cell_type": "code",
   "execution_count": 17,
   "metadata": {
    "collapsed": false,
    "jupyter": {
     "outputs_hidden": false
    }
   },
   "outputs": [
    {
     "data": {
      "text/plain": [
       "1.9000000000000001"
      ]
     },
     "execution_count": 17,
     "metadata": {},
     "output_type": "execute_result"
    }
   ],
   "source": [
    "(N * (N-1) / 2) * 0.01"
   ]
  },
  {
   "cell_type": "markdown",
   "metadata": {},
   "source": [
    "## Sensitivity / Specificity Tradeoff\n",
    "\n",
    "As with any adjustment of p-value cutoff, we have a tradeoff. A lower cutoff decreases the rate of false positives, but also decreases the chance we find a real relationship (true positive). So you can't just decrease your cutoff to solve this problem.\n",
    "\n",
    "https://en.wikipedia.org/wiki/Sensitivity_and_specificity\n",
    "\n",
    "## Reducing Multiple Comparisons Bias\n",
    "\n",
    "You can't really eliminate multiple comparisons bias, but you can reduce how much it impacts you. To do so we have two options.\n",
    "\n",
    "### Option 1: Run fewer tests.\n",
    "\n",
    "This is often the best option. Rather than just sweeping around hoping you hit an interesting signal, use your expert knowledge of the system to develop a great hypothesis and test that. This process of exploring the data, coming up with a hypothesis, then gathering more data and testing the hypothesis on the new data is considered the gold standard in statistical and scientific research. It's crucial that the data set on which you develop your hypothesis is not the one on which you test it. Because you found the effect while exploring, the test will likely pass and not really tell you anything. What you want to know is how consistent the effect is. Moving to new data and testing there will not only mean you only run one test, but will be an 'unbiased estimator' of whether your hypothesis is true. We discuss this a lot in other lectures.\n",
    "\n",
    "### Option 2: Adjustment Factors and Bon Ferroni Correction\n",
    "\n",
    "#### WARNING: This section gets a little technical. Unless you're comfortable with significance levels, we recommend looking at the code examples first and maybe reading the linked articles before fully diving into the text.\n",
    "\n",
    "If you must run many tests, try to correct your p-values. This means applying a correction factor to the cutoff you desire to obtain the one actually used when determining whether p-values are significant. The most conservative and common correction factor is Bon Ferroni."
   ]
  },
  {
   "cell_type": "markdown",
   "metadata": {},
   "source": [
    "### Example: Bon Ferroni Correction\n",
    "\n",
    "The concept behind Bon Ferroni is quite simple. It just says that if we run $m$ tests, and we have a significance level/cutoff of $a$, then we should use $a/m$ as our new cutoff when determining significance. The math works out because of the following.\n",
    "\n",
    "Let's say we run $m$ tests. We should expect to see $ma$ false positives based on random chance that pass out cutoff. If we instead use $a/m$ as our cutoff, then we should expect to see $ma/m = a$ tests that pass our cutoff. Therefore we are back to our desired false positive rate of $a$.\n",
    "\n",
    "Let's try it on our experiment above."
   ]
  },
  {
   "cell_type": "code",
   "execution_count": 18,
   "metadata": {},
   "outputs": [
    {
     "name": "stdout",
     "output_type": "stream",
     "text": [
      "the average result is: 0.07\n"
     ]
    }
   ],
   "source": [
    "num_experiments = 100\n",
    "\n",
    "results = np.zeros((num_experiments,))\n",
    "\n",
    "N = 20\n",
    "\n",
    "T = 100\n",
    "\n",
    "desired_level = 0.05\n",
    "\n",
    "num_tests = N * (N - 1) / 2\n",
    "\n",
    "new_cutoff = desired_level / num_tests\n",
    "\n",
    "for i in range(num_experiments):\n",
    "    \n",
    "    print(f'trial {i+1} of {num_experiments}')\n",
    "    clear_output(wait=True)\n",
    "    \n",
    "    # Run a single experiment\n",
    "    result = do_experiment(20, 100, cutoff=new_cutoff)\n",
    "    \n",
    "    # Count how many pairs\n",
    "    n = len(result)\n",
    "    \n",
    "    # Add to array\n",
    "    results[i] = n\n",
    "    \n",
    "print('the average result is:', np.mean(results))"
   ]
  },
  {
   "cell_type": "markdown",
   "metadata": {},
   "source": [
    "As you can see, our number of significant results is now far lower on average. Which is good because the data was random to begin with."
   ]
  },
  {
   "cell_type": "markdown",
   "metadata": {},
   "source": [
    "### These are Often Overly Conservative\n",
    "\n",
    "Because Bon Ferroni is so stringent, you can often end up passing over real relationships. There is a good example in the following article\n",
    "\n",
    "https://en.wikipedia.org/wiki/Multiple_comparisons_problem\n",
    "\n",
    "Effectively, it assumes that all the tests you are running are independent, and doesn't take into account any structure in your data. You may be able to design a more finely tuned correction factor, but this is adding a layer of complexity and therefore a point of failure to your research. In general any time you relax your stringency, you need to be very careful not to make a mistake.\n",
    "\n",
    "Because of the over-zealousness of Bon Ferroni, often running fewer tests is the better option. Or, if you must run many tests, reserve multiple sets of data so your candidate signals can undergo an out-of-sample round of testing. For example, you might have the following flow:\n",
    "\n",
    " * Let's say there are 100,000 possible relationships.\n",
    " * Run a test on each possible relationship, and pick those that passed the test.\n",
    " * With these candidates, run a test on a new out-of-sample set of data. Because you have many fewer candidates, you can now apply a Bon Ferroni correction to these p-values, or if necessary repeat another round of out-of-sample testing."
   ]
  },
  {
   "cell_type": "markdown",
   "metadata": {},
   "source": [
    "## What is p-Hacking?\n",
    "\n",
    "p-hacking is just intentional or accidental abuse of multiple comparisons bias. It is surprisingly common, even in academic literature. The excellent statistical news website FiveThirtyEight has a great visualization here:\n",
    "\n",
    "https://fivethirtyeight.com/features/science-isnt-broken/\n",
    "\n",
    "Wikipedia's article is also informative:\n",
    "\n",
    "https://en.wikipedia.org/wiki/Data_dredging\n",
    "\n",
    "In general, the concept is simple. By running many tests or experiments and then focusing only on the ones that worked, you can present false positives as real results. Keep in mind that this also applies to running many different models or different types of experiments and on different data sets. Imagine that you spend a summer researching a new model to forecast corn future prices. You try 50 different models until finally one succeeds. Is this just luck at this point? Certainly you would want to be more careful about validating that model and testing it out-of-sample on new data before believing that it works."
   ]
  },
  {
   "cell_type": "markdown",
   "metadata": {},
   "source": [
    "## Final Notes\n",
    "\n",
    "### You can never eliminate, only reduce risk.\n",
    "\n",
    "In general you can never completely eliminate multiple comparisons bias, you can only reduce the risk of false positives using techniques we described above. At the end of the day most ideas tried in research don't work, so you'll end up testing many different hypotheses over time. Just try to be careful and use common sense about whether there is sufficient evidence that a hypothesis is true, or that you just happened to get lucky on this iteration.\n",
    "\n",
    "### Use Out-of-Sample Testing\n",
    "\n",
    "As mentioned above, out-of-sample testing is one of the best ways to reduce your risk. You should always use it, no matter the circumstances. Often one of the ways that false positives make it through your workflow is a lack of an out-of-sample test at the end."
   ]
  },
  {
   "cell_type": "markdown",
   "metadata": {},
   "source": [
    "## Sources\n",
    "\n",
    " * https://en.wikipedia.org/wiki/Multiple_comparisons_problem\n",
    " * https://en.wikipedia.org/wiki/Sensitivity_and_specificity\n",
    " * https://en.wikipedia.org/wiki/Bonferroni_correction\n",
    " * https://fivethirtyeight.com/features/science-isnt-broken/"
   ]
  },
  {
   "cell_type": "markdown",
   "metadata": {},
   "source": [
    "---\n",
    "\n",
    "**Next Lecture:** [Leverage](Lecture24-Leverage.ipynb) \n",
    "\n",
    "[Back to Introduction](Introduction.ipynb) "
   ]
  },
  {
   "cell_type": "markdown",
   "metadata": {},
   "source": [
    "---\n",
    "\n",
    "*This presentation is for informational purposes only and does not constitute an offer to sell, a solicitation to buy, or a recommendation for any security; nor does it constitute an offer to provide investment advisory or other services by Quantopian, Inc. (\"Quantopian\") or QuantRocket LLC (\"QuantRocket\"). Nothing contained herein constitutes investment advice or offers any opinion with respect to the suitability of any security, and any views expressed herein should not be taken as advice to buy, sell, or hold any security or as an endorsement of any security or company.  In preparing the information contained herein, neither Quantopian nor QuantRocket has taken into account the investment needs, objectives, and financial circumstances of any particular investor. Any views expressed and data illustrated herein were prepared based upon information believed to be reliable at the time of publication. Neither Quantopian nor QuantRocket makes any guarantees as to their accuracy or completeness. All information is subject to change and may quickly become unreliable for various reasons, including changes in market conditions or economic circumstances.*"
   ]
  }
 ],
 "metadata": {
  "kernelspec": {
   "display_name": " Zipline environment",
   "language": "python",
   "name": "zipline"
  },
  "language_info": {
   "codemirror_mode": {
    "name": "ipython",
    "version": 3
   },
   "file_extension": ".py",
   "mimetype": "text/x-python",
   "name": "python",
   "nbconvert_exporter": "python",
   "pygments_lexer": "ipython3",
   "version": "3.6.2"
  }
 },
 "nbformat": 4,
 "nbformat_minor": 4
}
