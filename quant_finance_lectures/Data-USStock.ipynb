{
 "cells": [
  {
   "cell_type": "markdown",
   "metadata": {},
   "source": [
    "<img alt=\"QuantRocket logo\" src=\"https://www.quantrocket.com/assets/img/notebook-header-logo.png\">\n",
    "\n",
    "<a href=\"https://www.quantrocket.com/disclaimer/\">Disclaimer</a>"
   ]
  },
  {
   "cell_type": "markdown",
   "metadata": {},
   "source": [
    "# Collect 1-minute US Stock Data\n",
    "\n",
    "For the sake of convenience, before collecting the full dataset, we recommend collecting the [free sample dataset](Data-USStock-Sample.ipynb) first. Collecting the full dataset takes approximately 12-15 hours, so collecting the sample data first will allow you to get started while the full data collection runs. In addition, many lectures use the sample dataset, and having it available will allow you to execute the example data queries as written, without having to modify them to point to the full dataset.   \n",
    "\n",
    "Once you have collected the sample data, create a bundle for the full dataset called 'usstock-1min':"
   ]
  },
  {
   "cell_type": "code",
   "execution_count": 1,
   "metadata": {},
   "outputs": [
    {
     "data": {
      "text/plain": [
       "{'status': 'success', 'msg': 'successfully created usstock-1min bundle'}"
      ]
     },
     "execution_count": 1,
     "metadata": {},
     "output_type": "execute_result"
    }
   ],
   "source": [
    "from quantrocket.zipline import create_usstock_bundle\n",
    "create_usstock_bundle(\"usstock-1min\")"
   ]
  },
  {
   "cell_type": "markdown",
   "metadata": {},
   "source": [
    "Then ingest the data:"
   ]
  },
  {
   "cell_type": "code",
   "execution_count": 2,
   "metadata": {},
   "outputs": [
    {
     "data": {
      "text/plain": [
       "{'status': 'the data will be ingested asynchronously'}"
      ]
     },
     "execution_count": 2,
     "metadata": {},
     "output_type": "execute_result"
    }
   ],
   "source": [
    "from quantrocket.zipline import ingest_bundle\n",
    "ingest_bundle(\"usstock-1min\")"
   ]
  },
  {
   "cell_type": "markdown",
   "metadata": {},
   "source": [
    "Use flightlog to monitor the progress:\n",
    "\n",
    "```\n",
    "quantrocket.zipline: INFO [usstock-1min] Ingesting minute bars for 18638 securities in usstock-1min bundle\n",
    "quantrocket.zipline: INFO [usstock-1min] Ingesting daily bars for usstock-1min bundle\n",
    "quantrocket.zipline: INFO [usstock-1min] Ingesting adjustments for usstock-1min bundle\n",
    "quantrocket.zipline: INFO [usstock-1min] Ingesting assets for usstock-1min bundle\n",
    "quantrocket.zipline: INFO [usstock-1min] Completed ingesting data for 18638 securities in usstock-1min bundle\n",
    "```"
   ]
  },
  {
   "cell_type": "markdown",
   "metadata": {},
   "source": [
    "---\n",
    "\n",
    "**First Lecture**: [Introduction to Notebooks](Lecture01-Introduction-to-Notebooks.ipynb) \n",
    "\n",
    "[Back to Introduction](Introduction.ipynb) "
   ]
  }
 ],
 "metadata": {
  "kernelspec": {
   "display_name": " Zipline environment",
   "language": "python",
   "name": "zipline"
  },
  "language_info": {
   "codemirror_mode": {
    "name": "ipython",
    "version": 3
   },
   "file_extension": ".py",
   "mimetype": "text/x-python",
   "name": "python",
   "nbconvert_exporter": "python",
   "pygments_lexer": "ipython3",
   "version": "3.6.2"
  }
 },
 "nbformat": 4,
 "nbformat_minor": 4
}
