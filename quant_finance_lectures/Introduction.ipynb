{
 "cells": [
  {
   "cell_type": "markdown",
   "metadata": {},
   "source": [
    "<img alt=\"QuantRocket logo\" src=\"https://www.quantrocket.com/assets/img/notebook-header-logo.png\">\n",
    "\n",
    "<a href=\"https://www.quantrocket.com/disclaimer/\">Disclaimer</a>"
   ]
  },
  {
   "cell_type": "markdown",
   "metadata": {},
   "source": [
    "# Quantitative Finance Lecture Series\n",
    "\n",
    "Learn quantitative finance with this comprehensive lecture series. Adapted from the Quantopian Lecture Series ([GitHub](https://github.com/quantopian/research_public)).\n"
   ]
  },
  {
   "cell_type": "markdown",
   "metadata": {},
   "source": [
    "## Contents\n",
    "\n",
    "* Prerequisite: [Sample Data Collection](Part0-Data-Collection.ipynb)\n",
    "* Lecture 1: [Introduction to Notebooks](Part1-Introduction-to-Notebooks.ipynb) [[▶️Video](https://www.youtube.com/watch?v=W-TlWzwM208)]\n",
    "* Lecture 2: [Introduction to Python](Part2-Introduction-to-Python.ipynb) [[▶️Video](https://www.youtube.com/watch?v=bQUWLkKzpxE)]\n",
    "* Lecture 3: [Introduction to NumPy](Part3-Introduction-to-NumPy.ipynb) [[▶️Video](https://www.youtube.com/watch?v=48RqKyD6fas)]\n",
    "* Lecture 4: [Introduction to pandas](Part4-Introduction-to-Pandas.ipynb) [[▶️Video](https://www.youtube.com/watch?v=pAkEuv1lj08)]\n",
    "* Lecture 5: Plotting Data — [[📝Lecture Notebooks](https://github.com/quantopian/research_public/tree/master/notebooks/lectures/Plotting_Data)] [[▶️Video](https://www.youtube.com/watch?v=nKq_wz3Qk8w)]\n",
    "* Lecture 6: Means — [[📝Lecture Notebooks](https://github.com/quantopian/research_public/tree/master/notebooks/lectures/Means)] [[▶️Video](https://www.youtube.com/watch?v=XYbsBsRtCjw)]\n",
    "* Lecture 7: Variance — [[📝Lecture Notebooks](https://github.com/quantopian/research_public/tree/master/notebooks/lectures/Variance)] [[▶️Video](https://www.youtube.com/watch?v=0AWY0odmjSs)]\n",
    "* Lecture 8: Statistical Moments — [[📝Lecture Notebooks](https://github.com/quantopian/research_public/tree/master/notebooks/lectures/Statistical_Moments)] [[▶️Video](https://www.youtube.com/watch?v=mkVA_xUWDI0)]\n",
    "* Lecture 9: Linear Correlation Analysis — [[📝Lecture Notebooks](https://github.com/quantopian/research_public/tree/master/notebooks/lectures/Linear_Correlation_Analysis)] [[▶️Video](https://www.youtube.com/watch?v=GM76JkrVmRk?t=2m6s)]\n",
    "* Lecture 10: Instability of Estimates — [[📝Lecture Notebooks](https://github.com/quantopian/research_public/tree/master/notebooks/lectures/Instability_of_Estimates)] [[▶️Video](https://www.youtube.com/watch?v=2pbu3_6lF40)]\n",
    "* Lecture 11: Random Variables — [[📝Lecture Notebooks](https://github.com/quantopian/research_public/tree/master/notebooks/lectures/Random_Variables)]\n",
    "* Lecture 12: Linear Regression — [[📝Lecture Notebooks](https://github.com/quantopian/research_public/tree/master/notebooks/lectures/Linear_Regression)] [[▶️Video](https://www.youtube.com/watch?v=Af0l3TQJ3h8?t=3m36s)]\n",
    "* Lecture 13: Maximum Likelihood Estimation — [[📝Lecture Notebooks](https://github.com/quantopian/research_public/tree/master/notebooks/lectures/Maximum_Likelihood_Estimation)]\n",
    "* Lecture 14: Regression Model Instability — [[📝Lecture Notebooks](https://github.com/quantopian/research_public/tree/master/notebooks/lectures/Regression_Model_Instability)] [[▶️Video](https://www.youtube.com/watch?v=HMQ34PfhzGE)]\n",
    "* Lecture 15: Multiple Linear Regression — [[📝Lecture Notebooks](https://github.com/quantopian/research_public/tree/master/notebooks/lectures/Multiple_Linear_Regression)]\n",
    "* Lecture 16: Violations of Regression Models — [[📝Lecture Notebooks](https://github.com/quantopian/research_public/tree/master/notebooks/lectures/Violations_of_Regression_Models)] [[▶️Video](https://www.youtube.com/watch?v=xM94MRs8U3M)]\n",
    "* Lecture 17: Model Misspecification — [[📝Lecture Notebooks](https://github.com/quantopian/research_public/tree/master/notebooks/lectures/Model_Misspecification)] [[▶️Video](https://www.youtube.com/watch?v=t4peS8Ak-sY)]\n",
    "* Lecture 18: Residual Analysis — [[📝Lecture Notebooks](https://github.com/quantopian/research_public/tree/master/notebooks/lectures/Residuals_Analysis)]\n",
    "* Lecture 19: The Dangers of Overfitting — [[📝Lecture Notebooks](https://github.com/quantopian/research_public/tree/master/notebooks/lectures/The_Dangers_of_Overfitting)] [[▶️Video](https://www.youtube.com/watch?v=KNCgvjyKrcw)]\n",
    "* Lecture 20: Hypothesis Testing — [[📝Lecture Notebooks](https://github.com/quantopian/research_public/tree/master/notebooks/lectures/Hypothesis_Testing)]\n",
    "* Lecture 21: Confidence Intervals — [[📝Lecture Notebooks](https://github.com/quantopian/research_public/tree/master/notebooks/lectures/Confidence_Intervals)]\n",
    "* Lecture 22: p-Hacking and Multiple Comparisons Bias — [[📝Lecture Notebooks](https://github.com/quantopian/research_public/tree/master/notebooks/lectures/p-Hacking_and_Multiple_Comparisons_Bias)] [[▶️Video](https://www.youtube.com/watch?v=YiDfbYtgUPc)]\n",
    "* Lecture 23: Spearman Rank Correlation — [[📝Lecture Notebooks](https://github.com/quantopian/research_public/tree/master/notebooks/lectures/Spearman_Rank_Correlation)] [[▶️Video](https://www.youtube.com/watch?v=GM76JkrVmRk?t=25m51s)]\n",
    "* Lecture 24: Leverage — [[📝Lecture Notebooks](https://github.com/quantopian/research_public/tree/master/notebooks/lectures/Leverage)]\n",
    "* Lecture 25: Position Concentration Risk — [[📝Lecture Notebooks](https://github.com/quantopian/research_public/tree/master/notebooks/lectures/Position_Concentration_Risk)] [[▶️Video](https://www.youtube.com/watch?v=I1z7B2_FarQ)]\n",
    "* Lecture 26: Estimating Covariance Matrices — [[📝Lecture Notebooks](https://github.com/quantopian/research_public/tree/master/notebooks/lectures/Estimating_Covariance_Matrices)]\n",
    "* Lecture 27: Introduction to Volume, Slippage, and Liquidity — [[📝Lecture Notebooks](https://github.com/quantopian/research_public/tree/master/notebooks/lectures/Introduction_to_Volume_Slippage_and_Liquidity)]\n",
    "* Lecture 28: Market Impact Models — [[📝Lecture Notebooks](https://github.com/quantopian/research_public/tree/master/notebooks/lectures/Market_Impact_Model)]\n",
    "* Lecture 29: Universe Selection — [[📝Lecture Notebooks](https://github.com/quantopian/research_public/tree/master/notebooks/lectures/Universe_Selection)] [[▶️Video](https://www.youtube.com/watch?v=oa5RhuHVbH0)]\n",
    "* Lecture 30: The Capital Asset Pricing Model and Arbitrage Pricing Theory — [[📝Lecture Notebooks](https://github.com/quantopian/research_public/tree/master/notebooks/lectures/CAPM_and_Arbitrage_Pricing_Theory)]\n",
    "* Lecture 31: Beta Hedging — [[📝Lecture Notebooks](https://github.com/quantopian/research_public/tree/master/notebooks/lectures/Beta_Hedging)] [[▶️Video](https://www.youtube.com/watch?v=Af0l3TQJ3h8?t=22m14s)]\n",
    "* Lecture 32: Fundamental Factor Models — [[📝Lecture Notebooks](https://github.com/quantopian/research_public/tree/master/notebooks/lectures/Fundamental_Factor_Models)] [[▶️Video](https://www.youtube.com/watch?v=P16zDtf0CE0)]\n",
    "* Lecture 33: Portfolio Analysis — [[📝Lecture Notebooks](https://github.com/quantopian/research_public/tree/master/notebooks/lectures/Portfolio_Analysis)]\n",
    "* Lecture 34: Factor Risk Exposure — [[📝Lecture Notebooks](https://github.com/quantopian/research_public/tree/master/notebooks/lectures/Factor_Risk_Exposure)] [[▶️Video](https://www.youtube.com/watch?v=Ep8Y5JfQoRg)]\n",
    "* Lecture 35: Risk-Constrained Portfolio Optimization — [[📝Lecture Notebooks](https://github.com/quantopian/research_public/blob/master/notebooks/lectures/Factor_Based_Risk_Management/notebook.ipynb)]\n",
    "* Lecture 36: Principal Component Analysis — [[📝Lecture Notebooks](https://github.com/quantopian/research_public/tree/master/notebooks/lectures/PCA)]\n",
    "* Lecture 37: Long-Short Equity — [[📝Lecture Notebooks](https://github.com/quantopian/research_public/tree/master/notebooks/lectures/Long-Short_Equity)]\n",
    "* Lecture 38: Example: Long-Short Equity Algorithm — [[📝Lecture Notebooks](https://github.com/quantopian/research_public/tree/master/notebooks/lectures/Long-Short_Equity)]\n",
    "* Lecture 39: Factor Analysis with Alphalens — [[📝Lecture Notebooks](https://github.com/quantopian/research_public/tree/master/notebooks/lectures/Factor_Analysis)] [[▶️Video](https://www.youtube.com/watch?v=v5IYcBxMDYE)]\n",
    "* Lecture 40: Why You Should Hedge Beta and Sector Exposures (Part I) — [[📝Lecture Notebooks](https://github.com/quantopian/research_public/tree/master/notebooks/lectures/Why_Hedge_I)]\n",
    "* Lecture 41: Why You Should Hedge Beta and Sector Exposures (Part II) — [[📝Lecture Notebooks](https://github.com/quantopian/research_public/tree/master/notebooks/lectures/Why_Hedge_II)]\n",
    "* Lecture 42: VaR and CVaR — [[📝Lecture Notebooks](https://github.com/quantopian/research_public/tree/master/notebooks/lectures/VaR_and_CVaR)]\n",
    "* Lecture 43: Integration, Cointegration, and Stationarity — [[📝Lecture Notebooks](https://github.com/quantopian/research_public/tree/master/notebooks/lectures/Integration_Cointegration_and_Stationarity)] [[Video](https://www.youtube.com/watch?v=Pn_RiDbK82M)]\n",
    "* Lecture 44: Introduction to Pairs Trading — [[📝Lecture Notebooks](https://github.com/quantopian/research_public/tree/master/notebooks/lectures/Introduction_to_Pairs_Trading)] [[▶️Video](https://www.youtube.com/watch?v=JTucMRYMOyY)]\n",
    "* Lecture 45: Example: Basic Pairs Trading Algorithm — [[📝Lecture Notebooks](https://github.com/quantopian/research_public/tree/master/notebooks/lectures/Introduction_to_Pairs_Trading)]\n",
    "* Lecture 46: Example: Pairs Trading Algorithm — [[📝Lecture Notebooks](https://github.com/quantopian/research_public/tree/master/notebooks/lectures/Introduction_to_Pairs_Trading)]\n",
    "* Lecture 47: Autocorrelation and AR Models — [[📝Lecture Notebooks](https://github.com/quantopian/research_public/tree/master/notebooks/lectures/Autocorrelation_and_AR_Models)] [[▶️Video](https://www.youtube.com/watch?v=fnrSZvla51Y)]\n",
    "* Lecture 48: ARCH, GARCH, and GMM — [[📝Lecture Notebooks](https://github.com/quantopian/research_public/tree/master/notebooks/lectures/ARCH_GARCH_and_GMM)]\n",
    "* Lecture 49: Kalman Filters — [[📝Lecture Notebooks](https://github.com/quantopian/research_public/tree/master/notebooks/lectures/Kalman_Filters)] [[▶️Video](https://www.youtube.com/watch?v=RxIdLu18SsE)]\n",
    "* Lecture 50: Example: Kalman Filter Pairs Trade — [[📝Lecture Notebooks](https://github.com/quantopian/research_public/tree/master/notebooks/lectures/Kalman_Filters)]\n",
    "* Lecture 51: Introduction to Futures — [[📝Lecture Notebooks](https://github.com/quantopian/research_public/tree/master/notebooks/lectures/Introduction_to_Futures)]\n",
    "* Lecture 52: Futures Trading Considerations — [[📝Lecture Notebooks](https://github.com/quantopian/research_public/tree/master/notebooks/lectures/Futures_Trading_Considerations)]\n",
    "* Lecture 53: Mean Reversion on Futures — [[📝Lecture Notebooks](https://github.com/quantopian/research_public/tree/master/notebooks/lectures/Mean_Reversion_on_Futures)]\n",
    "* Lecture 54: Example: Pairs Trading on Futures — [[📝Lecture Notebooks](https://github.com/quantopian/research_public/tree/master/notebooks/lectures/Introduction_to_Pairs_Trading)]\n",
    "* Lecture 55: Case Study: Traditional Value Factor — [[📝Lecture Notebooks](https://github.com/quantopian/research_public/tree/master/notebooks/lectures/Case_Study_Traditional_Value_Factor)]\n",
    "* Lecture 56: Case Study: Comparing ETFs — [[📝Lecture Notebooks](https://github.com/quantopian/research_public/tree/master/notebooks/lectures/Case_Study_Comparing_ETFs)]"
   ]
  },
  {
   "cell_type": "markdown",
   "metadata": {},
   "source": [
    "## License \n",
    "\n",
    "© Copyright Quantopian, Inc.<br>\n",
    "© Modifications Copyright QuantRocket LLC\n",
    "\n",
    "Licensed under the [Creative Commons Attribution 4.0](https://creativecommons.org/licenses/by/4.0/legalcode)."
   ]
  }
 ],
 "metadata": {
  "kernelspec": {
   "display_name": "Python 3",
   "language": "python",
   "name": "python3"
  },
  "language_info": {
   "codemirror_mode": {
    "name": "ipython",
    "version": 3
   },
   "file_extension": ".py",
   "mimetype": "text/x-python",
   "name": "python",
   "nbconvert_exporter": "python",
   "pygments_lexer": "ipython3",
   "version": "3.7.6"
  }
 },
 "nbformat": 4,
 "nbformat_minor": 4
}
