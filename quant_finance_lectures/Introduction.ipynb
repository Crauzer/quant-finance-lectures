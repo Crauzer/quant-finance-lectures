{
 "cells": [
  {
   "cell_type": "markdown",
   "metadata": {},
   "source": [
    "<img alt=\"QuantRocket logo\" src=\"https://www.quantrocket.com/assets/img/notebook-header-logo.png\">\n",
    "\n",
    "<a href=\"https://www.quantrocket.com/disclaimer/\">Disclaimer</a>"
   ]
  },
  {
   "cell_type": "markdown",
   "metadata": {},
   "source": [
    "# Quantitative Finance Lecture Series\n",
    "\n",
    "Learn quantitative finance with this comprehensive lecture series. Adapted from the Quantopian Lecture Series ([GitHub](https://github.com/quantopian/research_public)) and updated to use Python 3 and QuantRocket data.\n"
   ]
  },
  {
   "cell_type": "markdown",
   "metadata": {},
   "source": [
    "## Data Requirements\n",
    "\n",
    "Most lectures can be completed using free sample data from QuantRocket. Some lectures are designed to be used larger datasets which require a paid QuantRocket subscription. These are marked with 💲 in the \"Required Dataset(s)\" column. These lectures can be completed without a QuantRocket subscription by substituting free sample data, although the results may be less interesting or meaningful.   \n"
   ]
  },
  {
   "cell_type": "markdown",
   "metadata": {},
   "source": [
    "| | Title | Description | Required Dataset(s) \n",
    "| :- | :- | :- | :-\n",
    "| **Data Collection Tutorials** | | | \n",
    "| Data Collection 1 | [Sample Dataset for US Stocks](Data-USStock-Sample.ipynb) | Collect the free sample dataset for US Stocks | -\n",
    "| Data Collection 2 | [Full Dataset for US Stocks](Data-USStock.ipynb) | Collect the full dataset for US Stocks. Requires a paid QuantRocket license. | -\n",
    "| Data Collection 3 | [Sharadar US Fundamentals](Data-Sharadar-Fundamentals.ipynb) | Collect fundamental data for US Stocks from Sharadar. Requires a paid QuantRocket license and a Sharadar license. | -\n",
    "| **Intro to Python** | | | \n",
    "| Lecture 1 | [Introduction to Notebooks](Lecture01-Introduction-to-Notebooks.ipynb) | Introductory tutorial demonstrating how to use Jupyter Notebooks | Sample Dataset\n",
    "| Lecture 2 | [Introduction to Python](Lecture02-Introduction-to-Python.ipynb) | Basic introduction to Python semantics and data structures | -\n",
    "| Lecture 3 | [Introduction to NumPy](Lecture03-Introduction-to-NumPy.ipynb) | Introduction to NumPy, a data computation library | -\n",
    "| Lecture 4 | [Introduction to pandas](Lecture04-Introduction-to-Pandas.ipynb) | Introduction to pandas, a library for managing and analyzing data | Sample Dataset\n",
    "| Lecture 5 | [Plotting Data](Lecture05-Plotting-Data.ipynb) | How to plot data with matplotlib | Sample Dataset\n",
    "| **Topics in Statistics** | | | \n",
    "| Lecture 6 | [Means](Lecture06-Means.ipynb) | Understanding and calculating different types of means | Sample Dataset\n",
    "| Lecture 7 | [Variance](Lecture07-Variance.ipynb) | Understanding and calculating measures of dispersion | -\n",
    "| Lecture 8 | [Statistical Moments](Lecture08-Statistical-Moments.ipynb) | Understanding skewness and kurtosis | Sample Dataset\n",
    "| Lecture 9 | [Linear Correlation Analysis](Lecture09-Linear-Correlation-Analysis.ipynb) | Understanding correlation and its relation to variance | Sample Dataset\n",
    "| Lecture 10 | [Instability of Estimates](Lecture10-Instability-of-Estimates.ipynb) | How estimates can change with new data observations | Sample Dataset\n",
    "| Lecture 11 | [Random Variables](Lecture11-Random-Variables.ipynb) | Understanding discrete and continuous random variables and probability distributions | Sample Dataset\n",
    "| Lecture 12 | [Linear Regression](Lecture12-Linear-Regression.ipynb) | Using linear regression to understand the relationship between two variables | Sample Dataset\n",
    "| Lecture 13 | [Maximum Likelihood Estimation](Lecture13-Maximum-Likelihood-Estimation.ipynb) | Basic introduction to maximum likelihood estimation, a method of estimating a probability distribution | Sample Dataset\n",
    "| Lecture 14 | [Regression Model Instability](Lecture14-Regression-Model-Instability.ipynb) | Why regression coeffecients can change due to factors like regime change and multicollinearity | Sample Dataset\n",
    "| Lecture 15 | [Multiple Linear Regression](Lecture15-Multiple-Linear-Regression.ipynb) | Multiple linear regression generalizes linear regression to multiple variables | Sample Dataset\n",
    "| Lecture 16 | [Violations of Regression Models](Lecture16-Violations-of-Regression-Models.ipynb) | Different scenarios that can violate regression assumptions | 💲 Full Dataset\n",
    "| Lecture 17 | [Model Misspecification](Lecture17-Model-Misspecification.ipynb) | What can cause a bad model to look good | Sample Data, 💲 Sharadar fundamentals\n",
    "| Lecture 18 | [Residual Analysis](Lecture18-Residual-Analysis.ipynb) | How to analyze residuals to build healthier models | 🆓EOD US Stock Sample Data ⚠️ (SPY)\n",
    "| Lecture 19 | [Dangers of Overfitting](Lecture19-Dangers-of-Overfitting.ipynb) | How overfitting can make a bad model seem attractive | 🆓EOD US Stock Sample Data\n",
    "| Lecture 20 | [Hypothesis Testing](Lecture20-Hypothesis-Testing.ipynb) | Statistical techniques for rejecting the null hypothesis | 🆓EOD US Stock Sample Data ⚠️ (SPY)\n",
    "| Lecture 21 | [Confidence Intervals](Lecture21-Confidence-Intervals.ipynb) | How to measure and interpret confidence intervals | -\n",
    "| Lecture 22 | [Spearman Rank Correlation](Lecture22-Spearman-Rank-Correlation.ipynb) | How to measure monotonic but non-linear relationships | 💲 US Stock Data ⚠️ (many symbols)\n",
    "| Lecture 23 | [p-Hacking and Multiple Comparisons Bias](Lecture23-p-Hacking-and-Multiple-Comparisons-Bias.ipynb) | How to avoid getting tricked by false positives | -\n",
    "| **Topics in Finance** | | | \n",
    "| Lecture 24 | [Leverage](Lecture24-Leverage.ipynb) |  |\n",
    "| Lecture 25 | [Position Concentration Risk](Lecture25-Position-Concentration-Risk.ipynb) |  |\n",
    "| Lecture 26 | [Estimating Covariance Matrices](Lecture26-Estimating-Covariance-Matrices.ipynb) |  |\n",
    "| Lecture 27 | [Introduction to Volume, Slippage, and Liquidity](Lecture27-Introduction-to-Volume-Slippage-and-Liquidity.ipynb) |  |\n",
    "| Lecture 28 | [Market Impact Models](Lecture28-Market-Impact-Models.ipynb) |  |\n",
    "| Lecture 29 | [Universe Selection](Lecture29-Universe-Selection.ipynb) |  |\n",
    "| Lecture 30 | [The Capital Asset Pricing Model and Arbitrage Pricing Theory](Lecture30-CAPM-and-Arbitrage-Pricing-Theory.ipynb) |  |\n",
    "| Lecture 31 | [Beta Hedging](Lecture31-Beta-Hedging.ipynb) |  |\n",
    "| Lecture 32 | [Fundamental Factor Models](Lecture32-Fundamental-Factor-Models.ipynb) |  |\n",
    "| Lecture 33 | [Portfolio Analysis](Lecture33-Portfolio-Analysis.ipynb) |  |\n",
    "| Lecture 34 | [Factor Risk Exposure](Lecture34-Factor-Risk-Exposure.ipynb) |  |\n",
    "| Lecture 35 | [Risk-Constrained Portfolio Optimization](Lecture35-Risk-Constrained-Portfolio-Optimization.ipynb) |  |\n",
    "| Lecture 36 | [Principal Component Analysis](Lecture36-PCA.ipynb) |  |\n",
    "| Lecture 37 | [Long-Short Equity](Lecture37-Long-Short-Equity.ipynb) |  |\n",
    "| Lecture 38 | [Factor Analysis with Alphalens](Lecture38-Factor-Analysis-with-Alphalens.ipynb) |  |\n",
    "| Lecture 39 | [Why You Should Hedge Beta and Sector Exposures (Part I)](Lecture39-Why-Hedge-I.ipynb) |  |\n",
    "| Lecture 40 | [Why You Should Hedge Beta and Sector Exposures (Part II)](Lecture40-Why-Hedge-II.ipynb) |  |\n",
    "| Lecture 41 | [VaR and CVaR](Lecture41-VaR-and-CVaR.ipynb) |  |\n",
    "| Lecture 42 | [Integration, Cointegration, and Stationarity](Lecture42-Integration-Cointegration-and-Stationarity.ipynb) |  |\n",
    "| Lecture 43 | [Introduction to Pairs Trading](Lecture43-Introduction-to-Pairs-Trading.ipynb) |  |\n",
    "| Lecture 44 | [Autocorrelation and AR Models](Lecture44-Autocorrelation-and-AR-Models.ipynb) |  |\n",
    "| Lecture 45 | [ARCH, GARCH, and GMM](Lecture45-ARCH-GARCH-and-GMM.ipynb) |  |\n",
    "| Lecture 46 | [Kalman Filters](Lecture46-Kalman-Filters.ipynb) |  |\n",
    "| Lecture 47 | [Introduction to Futures](Lecture47-Introduction-to-Futures.ipynb) |  |\n",
    "| Lecture 48 | [Futures Trading Considerations](Lecture48-Futures-Trading-Considerations.ipynb) |  |\n",
    "| Lecture 49 | [Mean Reversion on Futures](Lecture49-Mean-Reversion-on-Futures.ipynb) |  |\n",
    "| Lecture 50 | [Case Study: Traditional Value Factor](Lecture50-Case-Study-Traditional-Value-Factor.ipynb) |  |"
   ]
  },
  {
   "cell_type": "markdown",
   "metadata": {},
   "source": [
    "## License \n",
    "\n",
    "© Copyright Quantopian, Inc.<br>\n",
    "© Modifications Copyright QuantRocket LLC\n",
    "\n",
    "Licensed under the [Creative Commons Attribution 4.0](https://creativecommons.org/licenses/by/4.0/legalcode)."
   ]
  }
 ],
 "metadata": {
  "kernelspec": {
   "display_name": "Python 3",
   "language": "python",
   "name": "python3"
  },
  "language_info": {
   "codemirror_mode": {
    "name": "ipython",
    "version": 3
   },
   "file_extension": ".py",
   "mimetype": "text/x-python",
   "name": "python",
   "nbconvert_exporter": "python",
   "pygments_lexer": "ipython3",
   "version": "3.7.6"
  }
 },
 "nbformat": 4,
 "nbformat_minor": 4
}
